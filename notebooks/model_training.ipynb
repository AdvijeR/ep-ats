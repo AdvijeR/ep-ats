{
 "cells": [
  {
   "cell_type": "code",
   "execution_count": 13,
   "id": "9975768e-532b-4b96-8b69-f8ba7c65f01b",
   "metadata": {},
   "outputs": [],
   "source": [
    "import sys\n",
    "sys.path.append('../src')  \n",
    "\n",
    "from data.load_data import load_ticker_data, preprocess_data, save_data_to_csv, load_data_from_csv\n",
    "from model.model_training import train_and_save_models\n",
    "\n",
    "tickers = ['GOOGL', 'AMZN', 'AAPL', 'PEP', 'JNJ', 'PFE', 'MRK', 'ABBV', 'PG', 'KO',\n",
    "           'WMT', 'JPM', 'BAC', 'GS', 'V', 'XOM', 'CVX', 'COP', 'BP', 'BA',\n",
    "           'MMM', 'HON', 'GE', 'T', 'VZ', 'TMUS', 'HSY', 'DUK', 'SO', 'EXC', 'AEP',\n",
    "           'AMT', 'PLD', 'SPG', 'BHP', 'RIO', 'VALE', 'FCX']\n",
    "start_date = '2010-01-01'\n",
    "end_date = '2023-10-23'\n",
    "sequence_length = 50"
   ]
  },
  {
   "cell_type": "code",
   "execution_count": null,
   "id": "db1bbab8-1b20-4d2d-8857-cb82c992b710",
   "metadata": {},
   "outputs": [],
   "source": [
    "# Fetch and save data\n",
    "save_data_to_csv(tickers, start_date, end_date)\n",
    "\n",
    "# Train and save models\n",
    "trained_models = train_and_save_models(tickers, sequence_length)\n"
   ]
  },
  {
   "cell_type": "code",
   "execution_count": 14,
   "id": "9ee5a14e-9558-4d6d-8747-3f70a52b43ea",
   "metadata": {},
   "outputs": [
    {
     "name": "stdout",
     "output_type": "stream",
     "text": [
      "Processing GOOGL...\n",
      "107/107 [==============================] - 5s 45ms/step\n",
      "Processing AMZN...\n",
      "107/107 [==============================] - 5s 44ms/step\n",
      "Processing AAPL...\n",
      "107/107 [==============================] - 5s 46ms/step\n",
      "Processing PEP...\n",
      "107/107 [==============================] - 5s 45ms/step\n",
      "Processing JNJ...\n",
      "107/107 [==============================] - 6s 45ms/step\n",
      "Processing PFE...\n",
      "107/107 [==============================] - 6s 48ms/step\n",
      "Processing MRK...\n",
      "107/107 [==============================] - 6s 47ms/step\n",
      "Processing ABBV...\n",
      "84/84 [==============================] - 4s 48ms/step\n",
      "Processing PG...\n",
      "107/107 [==============================] - 5s 45ms/step\n",
      "Processing KO...\n",
      "107/107 [==============================] - 5s 46ms/step\n",
      "Processing WMT...\n",
      "107/107 [==============================] - 6s 48ms/step\n",
      "Processing JPM...\n",
      "107/107 [==============================] - 6s 49ms/step\n",
      "Processing BAC...\n",
      "107/107 [==============================] - 5s 41ms/step\n",
      "Processing GS...\n",
      "107/107 [==============================] - 5s 41ms/step\n",
      "Processing V...\n",
      "107/107 [==============================] - 5s 45ms/step\n",
      "Processing XOM...\n",
      "107/107 [==============================] - 5s 45ms/step\n",
      "Processing CVX...\n",
      "107/107 [==============================] - 5s 44ms/step\n",
      "Processing COP...\n",
      "107/107 [==============================] - 5s 44ms/step\n",
      "Processing BP...\n",
      "107/107 [==============================] - 6s 47ms/step\n",
      "Processing BA...\n",
      "107/107 [==============================] - 5s 45ms/step\n",
      "Processing MMM...\n",
      "107/107 [==============================] - 5s 44ms/step\n",
      "Processing HON...\n",
      "107/107 [==============================] - 6s 48ms/step\n",
      "Processing GE...\n",
      "107/107 [==============================] - 5s 45ms/step\n",
      "Processing T...\n",
      "107/107 [==============================] - 6s 48ms/step\n",
      "Processing VZ...\n",
      "107/107 [==============================] - 6s 47ms/step\n",
      "Processing TMUS...\n",
      "107/107 [==============================] - 6s 49ms/step\n",
      "Processing HSY...\n",
      "107/107 [==============================] - 5s 45ms/step\n",
      "Processing DUK...\n",
      "107/107 [==============================] - 5s 45ms/step\n",
      "Processing SO...\n",
      "107/107 [==============================] - 6s 47ms/step\n",
      "Processing EXC...\n",
      "107/107 [==============================] - 5s 42ms/step\n",
      "Processing AEP...\n",
      "107/107 [==============================] - 5s 43ms/step\n",
      "Processing AMT...\n",
      "107/107 [==============================] - 5s 41ms/step\n",
      "Processing PLD...\n",
      "107/107 [==============================] - 5s 42ms/step\n",
      "Processing SPG...\n",
      "107/107 [==============================] - 5s 45ms/step\n",
      "Processing BHP...\n",
      "107/107 [==============================] - 6s 47ms/step\n",
      "Processing RIO...\n",
      "107/107 [==============================] - 5s 41ms/step\n",
      "Processing VALE...\n",
      "107/107 [==============================] - 5s 45ms/step\n",
      "Processing FCX...\n",
      "107/107 [==============================] - 5s 44ms/step\n"
     ]
    }
   ],
   "source": [
    "import sys\n",
    "sys.path.append('../src')  \n",
    "\n",
    "from model.model_evaluation import get_predictions\n",
    "\n",
    "folder_path = \"../notebooks/models\"\n",
    "predictions, actuals = get_predictions(tickers, start_date, end_date, sequence_length, folder_path=folder_path)\n",
    "\n"
   ]
  },
  {
   "cell_type": "code",
   "execution_count": null,
   "id": "d1e2aa1a-a47c-418e-a108-3e61b45e0f06",
   "metadata": {},
   "outputs": [],
   "source": []
  },
  {
   "cell_type": "code",
   "execution_count": null,
   "id": "c43e6b93-5dcd-4c4b-b695-6e2b9dc90bc2",
   "metadata": {},
   "outputs": [],
   "source": []
  }
 ],
 "metadata": {
  "kernelspec": {
   "display_name": "Python 3 (ipykernel)",
   "language": "python",
   "name": "python3"
  },
  "language_info": {
   "codemirror_mode": {
    "name": "ipython",
    "version": 3
   },
   "file_extension": ".py",
   "mimetype": "text/x-python",
   "name": "python",
   "nbconvert_exporter": "python",
   "pygments_lexer": "ipython3",
   "version": "3.7.13"
  }
 },
 "nbformat": 4,
 "nbformat_minor": 5
}
